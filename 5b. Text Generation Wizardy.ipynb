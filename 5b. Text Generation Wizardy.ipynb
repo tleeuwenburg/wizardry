{
 "cells": [
  {
   "cell_type": "code",
   "execution_count": null,
   "metadata": {},
   "outputs": [],
   "source": [
    "from plotly.offline import download_plotlyjs, init_notebook_mode, plot, iplot\n",
    "from plotly.graph_objs import Bar, Scatter, Figure, Layout\n",
    "init_notebook_mode(connected=True)\n",
    "\n",
    "from wizardry.chunk import chunk"
   ]
  },
  {
   "cell_type": "code",
   "execution_count": null,
   "metadata": {
    "collapsed": true
   },
   "outputs": [],
   "source": [
    "time_series = [\n",
    "    (0, 1, 10, 11),\n",
    "    (1, 2, 11, 11),\n",
    "    (2, 3, 11, 10),\n",
    "    (3, 4, 10, 10),\n",
    "    (4, 5, 10, 9),\n",
    "    (5, 6, 9, 9),\n",
    "    (6, 7, 8, 9),\n",
    "    (7, 8, 9, 10),\n",
    "    (8, 9, 10, 10),\n",
    "    (9, 10, 11, 11),\n",
    "    (10, 11, 12, 13),\n",
    "    (11, 12, 13, 14),\n",
    "    (12, 13, 13, 15),\n",
    "    (13, 14, 14, 15),\n",
    "    (14, 15, 15, 15),\n",
    "    (15, 16, 12, 14),\n",
    "    (16, 17, 12, 12),\n",
    "    (17, 18, 11, 11),\n",
    "    (18, 19, 11, 11),\n",
    "    (19, 20, 10, 11),\n",
    "    (20, 21, 9, 10),   \n",
    "    (21, 22, 9, 9),  \n",
    "    (22, 23, 9, 9),    \n",
    "    (23, 24, 9, 9),   \n",
    "]"
   ]
  },
  {
   "cell_type": "code",
   "execution_count": null,
   "metadata": {
    "collapsed": true
   },
   "outputs": [],
   "source": [
    "chunk = chunk(time_series)"
   ]
  },
  {
   "cell_type": "code",
   "execution_count": null,
   "metadata": {},
   "outputs": [],
   "source": [
    "print(chunk)"
   ]
  },
  {
   "cell_type": "code",
   "execution_count": null,
   "metadata": {
    "collapsed": true
   },
   "outputs": [],
   "source": [
    "starts, ends, mins, maxs = zip(*time_series)"
   ]
  },
  {
   "cell_type": "code",
   "execution_count": null,
   "metadata": {},
   "outputs": [],
   "source": [
    "trace = Scatter(x=starts, y=maxs)\n",
    "layout = Layout(\n",
    "    xaxis=dict(range=[0, 24]),\n",
    "    yaxis=dict(range=[5, 18])\n",
    ")\n",
    "fig = Figure(data=[trace], layout=layout)\n",
    "iplot(fig)"
   ]
  },
  {
   "cell_type": "code",
   "execution_count": null,
   "metadata": {},
   "outputs": [],
   "source": [
    "fig = chunk.fig()\n",
    "iplot(fig)"
   ]
  },
  {
   "cell_type": "code",
   "execution_count": null,
   "metadata": {},
   "outputs": [],
   "source": [
    "chunk.dumbchunk()\n",
    "chunk"
   ]
  },
  {
   "cell_type": "code",
   "execution_count": null,
   "metadata": {},
   "outputs": [],
   "source": [
    "fig = chunk.fig()\n",
    "iplot(fig)"
   ]
  },
  {
   "cell_type": "code",
   "execution_count": null,
   "metadata": {
    "collapsed": true
   },
   "outputs": [],
   "source": []
  }
 ],
 "metadata": {
  "kernelspec": {
   "display_name": "Python 3",
   "language": "python",
   "name": "python3"
  },
  "language_info": {
   "codemirror_mode": {
    "name": "ipython",
    "version": 3
   },
   "file_extension": ".py",
   "mimetype": "text/x-python",
   "name": "python",
   "nbconvert_exporter": "python",
   "pygments_lexer": "ipython3",
   "version": "3.6.1"
  }
 },
 "nbformat": 4,
 "nbformat_minor": 2
}
