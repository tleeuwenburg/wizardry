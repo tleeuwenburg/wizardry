{
 "cells": [
  {
   "cell_type": "code",
   "execution_count": 1,
   "metadata": {},
   "outputs": [
    {
     "data": {
      "text/html": [
       "<script>requirejs.config({paths: { 'plotly': ['https://cdn.plot.ly/plotly-latest.min']},});if(!window.Plotly) {{require(['plotly'],function(plotly) {window.Plotly=plotly;});}}</script>"
      ],
      "text/vnd.plotly.v1+html": [
       "<script>requirejs.config({paths: { 'plotly': ['https://cdn.plot.ly/plotly-latest.min']},});if(!window.Plotly) {{require(['plotly'],function(plotly) {window.Plotly=plotly;});}}</script>"
      ]
     },
     "metadata": {},
     "output_type": "display_data"
    }
   ],
   "source": [
    "from plotly.offline import download_plotlyjs, init_notebook_mode, plot, iplot\n",
    "from plotly.graph_objs import Bar, Scatter, Figure, Layout\n",
    "init_notebook_mode(connected=True)\n",
    "\n",
    "from wizardry.chunk import chunk"
   ]
  },
  {
   "cell_type": "code",
   "execution_count": 2,
   "metadata": {
    "collapsed": true
   },
   "outputs": [],
   "source": [
    "time_series = [\n",
    "    (0, 1, 10, 11),\n",
    "    (1, 2, 11, 11),\n",
    "    (2, 3, 11, 10),\n",
    "    (3, 4, 10, 10),\n",
    "    (4, 5, 10, 9),\n",
    "    (5, 6, 9, 9),\n",
    "    (6, 7, 8, 9),\n",
    "    (7, 8, 9, 10),\n",
    "    (8, 9, 10, 10),\n",
    "    (9, 10, 11, 11),\n",
    "    (10, 11, 12, 13),\n",
    "    (11, 12, 13, 14),\n",
    "    (12, 13, 13, 15),\n",
    "    (13, 14, 14, 15),\n",
    "    (14, 15, 15, 15),\n",
    "    (15, 16, 12, 14),\n",
    "    (16, 17, 12, 12),\n",
    "    (17, 18, 11, 11),\n",
    "    (18, 19, 11, 11),\n",
    "    (19, 20, 10, 11),\n",
    "    (20, 21, 9, 10),   \n",
    "    (21, 22, 9, 9),  \n",
    "    (22, 23, 9, 9),    \n",
    "    (23, 24, 9, 9),   \n",
    "]"
   ]
  },
  {
   "cell_type": "code",
   "execution_count": 3,
   "metadata": {
    "collapsed": true
   },
   "outputs": [],
   "source": [
    "chunk = chunk(time_series)"
   ]
  },
  {
   "cell_type": "code",
   "execution_count": 4,
   "metadata": {},
   "outputs": [
    {
     "name": "stdout",
     "output_type": "stream",
     "text": [
      "From 0.00 to 1.00, the temperature will reach 11 and From 1.00 to 2.00, the temperature will reach 11 and From 2.00 to 3.00, the temperature will reach 10 and From 3.00 to 4.00, the temperature will reach 10 and From 4.00 to 5.00, the temperature will reach 9 and From 5.00 to 6.00, the temperature will reach 9 and From 6.00 to 7.00, the temperature will reach 9 and From 7.00 to 8.00, the temperature will reach 10 and From 8.00 to 9.00, the temperature will reach 10 and From 9.00 to 10.00, the temperature will reach 11 and From 10.00 to 11.00, the temperature will reach 13 and From 11.00 to 12.00, the temperature will reach 14 and From 12.00 to 13.00, the temperature will reach 15 and From 13.00 to 14.00, the temperature will reach 15 and From 14.00 to 15.00, the temperature will reach 15 and From 15.00 to 16.00, the temperature will reach 14 and From 16.00 to 17.00, the temperature will reach 12 and From 17.00 to 18.00, the temperature will reach 11 and From 18.00 to 19.00, the temperature will reach 11 and From 19.00 to 20.00, the temperature will reach 11 and From 20.00 to 21.00, the temperature will reach 10 and From 21.00 to 22.00, the temperature will reach 9 and From 22.00 to 23.00, the temperature will reach 9 and From 23.00 to 24.00, the temperature will reach 9\n"
     ]
    }
   ],
   "source": [
    "print(chunk)"
   ]
  },
  {
   "cell_type": "code",
   "execution_count": 5,
   "metadata": {
    "collapsed": true
   },
   "outputs": [],
   "source": [
    "starts, ends, mins, maxs = zip(*time_series)"
   ]
  },
  {
   "cell_type": "code",
   "execution_count": 6,
   "metadata": {},
   "outputs": [
    {
     "data": {
      "application/vnd.plotly.v1+json": {
       "data": [
        {
         "type": "scatter",
         "x": [
          0,
          1,
          2,
          3,
          4,
          5,
          6,
          7,
          8,
          9,
          10,
          11,
          12,
          13,
          14,
          15,
          16,
          17,
          18,
          19,
          20,
          21,
          22,
          23
         ],
         "y": [
          11,
          11,
          10,
          10,
          9,
          9,
          9,
          10,
          10,
          11,
          13,
          14,
          15,
          15,
          15,
          14,
          12,
          11,
          11,
          11,
          10,
          9,
          9,
          9
         ]
        }
       ],
       "layout": {
        "xaxis": {
         "range": [
          0,
          24
         ]
        },
        "yaxis": {
         "range": [
          5,
          18
         ]
        }
       }
      },
      "text/html": [
       "<div id=\"82c71661-d23b-4b8f-b1ec-b40a08d78831\" style=\"height: 525px; width: 100%;\" class=\"plotly-graph-div\"></div><script type=\"text/javascript\">require([\"plotly\"], function(Plotly) { window.PLOTLYENV=window.PLOTLYENV || {};window.PLOTLYENV.BASE_URL=\"https://plot.ly\";Plotly.newPlot(\"82c71661-d23b-4b8f-b1ec-b40a08d78831\", [{\"type\": \"scatter\", \"x\": [0, 1, 2, 3, 4, 5, 6, 7, 8, 9, 10, 11, 12, 13, 14, 15, 16, 17, 18, 19, 20, 21, 22, 23], \"y\": [11, 11, 10, 10, 9, 9, 9, 10, 10, 11, 13, 14, 15, 15, 15, 14, 12, 11, 11, 11, 10, 9, 9, 9]}], {\"xaxis\": {\"range\": [0, 24]}, \"yaxis\": {\"range\": [5, 18]}}, {\"showLink\": true, \"linkText\": \"Export to plot.ly\"})});</script>"
      ],
      "text/vnd.plotly.v1+html": [
       "<div id=\"82c71661-d23b-4b8f-b1ec-b40a08d78831\" style=\"height: 525px; width: 100%;\" class=\"plotly-graph-div\"></div><script type=\"text/javascript\">require([\"plotly\"], function(Plotly) { window.PLOTLYENV=window.PLOTLYENV || {};window.PLOTLYENV.BASE_URL=\"https://plot.ly\";Plotly.newPlot(\"82c71661-d23b-4b8f-b1ec-b40a08d78831\", [{\"type\": \"scatter\", \"x\": [0, 1, 2, 3, 4, 5, 6, 7, 8, 9, 10, 11, 12, 13, 14, 15, 16, 17, 18, 19, 20, 21, 22, 23], \"y\": [11, 11, 10, 10, 9, 9, 9, 10, 10, 11, 13, 14, 15, 15, 15, 14, 12, 11, 11, 11, 10, 9, 9, 9]}], {\"xaxis\": {\"range\": [0, 24]}, \"yaxis\": {\"range\": [5, 18]}}, {\"showLink\": true, \"linkText\": \"Export to plot.ly\"})});</script>"
      ]
     },
     "metadata": {},
     "output_type": "display_data"
    }
   ],
   "source": [
    "trace = Scatter(x=starts, y=maxs)\n",
    "layout = Layout(\n",
    "    xaxis=dict(range=[0, 24]),\n",
    "    yaxis=dict(range=[5, 18])\n",
    ")\n",
    "fig = Figure(data=[trace], layout=layout)\n",
    "iplot(fig)"
   ]
  },
  {
   "cell_type": "code",
   "execution_count": 7,
   "metadata": {},
   "outputs": [
    {
     "data": {
      "application/vnd.plotly.v1+json": {
       "data": [
        {
         "type": "scatter",
         "x": [
          0,
          1,
          2,
          3,
          4,
          5,
          6,
          7,
          8,
          9,
          10,
          11,
          12,
          13,
          14,
          15,
          16,
          17,
          18,
          19,
          20,
          21,
          22,
          23
         ],
         "y": [
          11,
          11,
          10,
          10,
          9,
          9,
          9,
          10,
          10,
          11,
          13,
          14,
          15,
          15,
          15,
          14,
          12,
          11,
          11,
          11,
          10,
          9,
          9,
          9
         ]
        }
       ],
       "layout": {
        "xaxis": {
         "range": [
          0,
          24
         ]
        },
        "yaxis": {
         "range": [
          5,
          18
         ]
        }
       }
      },
      "text/html": [
       "<div id=\"8f368a5d-04dc-412b-bf98-3d6377a6cf08\" style=\"height: 525px; width: 100%;\" class=\"plotly-graph-div\"></div><script type=\"text/javascript\">require([\"plotly\"], function(Plotly) { window.PLOTLYENV=window.PLOTLYENV || {};window.PLOTLYENV.BASE_URL=\"https://plot.ly\";Plotly.newPlot(\"8f368a5d-04dc-412b-bf98-3d6377a6cf08\", [{\"type\": \"scatter\", \"x\": [0, 1, 2, 3, 4, 5, 6, 7, 8, 9, 10, 11, 12, 13, 14, 15, 16, 17, 18, 19, 20, 21, 22, 23], \"y\": [11, 11, 10, 10, 9, 9, 9, 10, 10, 11, 13, 14, 15, 15, 15, 14, 12, 11, 11, 11, 10, 9, 9, 9]}], {\"xaxis\": {\"range\": [0, 24]}, \"yaxis\": {\"range\": [5, 18]}}, {\"showLink\": true, \"linkText\": \"Export to plot.ly\"})});</script>"
      ],
      "text/vnd.plotly.v1+html": [
       "<div id=\"8f368a5d-04dc-412b-bf98-3d6377a6cf08\" style=\"height: 525px; width: 100%;\" class=\"plotly-graph-div\"></div><script type=\"text/javascript\">require([\"plotly\"], function(Plotly) { window.PLOTLYENV=window.PLOTLYENV || {};window.PLOTLYENV.BASE_URL=\"https://plot.ly\";Plotly.newPlot(\"8f368a5d-04dc-412b-bf98-3d6377a6cf08\", [{\"type\": \"scatter\", \"x\": [0, 1, 2, 3, 4, 5, 6, 7, 8, 9, 10, 11, 12, 13, 14, 15, 16, 17, 18, 19, 20, 21, 22, 23], \"y\": [11, 11, 10, 10, 9, 9, 9, 10, 10, 11, 13, 14, 15, 15, 15, 14, 12, 11, 11, 11, 10, 9, 9, 9]}], {\"xaxis\": {\"range\": [0, 24]}, \"yaxis\": {\"range\": [5, 18]}}, {\"showLink\": true, \"linkText\": \"Export to plot.ly\"})});</script>"
      ]
     },
     "metadata": {},
     "output_type": "display_data"
    }
   ],
   "source": [
    "fig = chunk.fig()\n",
    "iplot(fig)"
   ]
  },
  {
   "cell_type": "code",
   "execution_count": 8,
   "metadata": {},
   "outputs": [
    {
     "data": {
      "text/plain": [
       "From 0.00 to 6.00, the temperature will reach 11 and From 6.00 to 12.00, the temperature will reach 14 and From 12.00 to 18.00, the temperature will reach 15 and From 18.00 to 24.00, the temperature will reach 11"
      ]
     },
     "execution_count": 8,
     "metadata": {},
     "output_type": "execute_result"
    }
   ],
   "source": [
    "chunk.dumbchunk()\n",
    "chunk"
   ]
  },
  {
   "cell_type": "code",
   "execution_count": 9,
   "metadata": {},
   "outputs": [
    {
     "data": {
      "application/vnd.plotly.v1+json": {
       "data": [
        {
         "type": "bar",
         "width": [
          6,
          6,
          6,
          6
         ],
         "x": [
          3,
          9,
          15,
          21
         ],
         "y": [
          11,
          14,
          15,
          11
         ]
        }
       ],
       "layout": {
        "xaxis": {
         "range": [
          0,
          24
         ]
        },
        "yaxis": {
         "range": [
          5,
          18
         ]
        }
       }
      },
      "text/html": [
       "<div id=\"0e9428b9-095e-497b-93b4-36b38aa480e5\" style=\"height: 525px; width: 100%;\" class=\"plotly-graph-div\"></div><script type=\"text/javascript\">require([\"plotly\"], function(Plotly) { window.PLOTLYENV=window.PLOTLYENV || {};window.PLOTLYENV.BASE_URL=\"https://plot.ly\";Plotly.newPlot(\"0e9428b9-095e-497b-93b4-36b38aa480e5\", [{\"type\": \"bar\", \"x\": [3, 9, 15, 21], \"y\": [11, 14, 15, 11], \"width\": [6, 6, 6, 6]}], {\"xaxis\": {\"range\": [0, 24]}, \"yaxis\": {\"range\": [5, 18]}}, {\"showLink\": true, \"linkText\": \"Export to plot.ly\"})});</script>"
      ],
      "text/vnd.plotly.v1+html": [
       "<div id=\"0e9428b9-095e-497b-93b4-36b38aa480e5\" style=\"height: 525px; width: 100%;\" class=\"plotly-graph-div\"></div><script type=\"text/javascript\">require([\"plotly\"], function(Plotly) { window.PLOTLYENV=window.PLOTLYENV || {};window.PLOTLYENV.BASE_URL=\"https://plot.ly\";Plotly.newPlot(\"0e9428b9-095e-497b-93b4-36b38aa480e5\", [{\"type\": \"bar\", \"x\": [3, 9, 15, 21], \"y\": [11, 14, 15, 11], \"width\": [6, 6, 6, 6]}], {\"xaxis\": {\"range\": [0, 24]}, \"yaxis\": {\"range\": [5, 18]}}, {\"showLink\": true, \"linkText\": \"Export to plot.ly\"})});</script>"
      ]
     },
     "metadata": {},
     "output_type": "display_data"
    }
   ],
   "source": [
    "fig = chunk.fig()\n",
    "iplot(fig)"
   ]
  },
  {
   "cell_type": "code",
   "execution_count": null,
   "metadata": {
    "collapsed": true
   },
   "outputs": [],
   "source": []
  }
 ],
 "metadata": {
  "kernelspec": {
   "display_name": "Python 3",
   "language": "python",
   "name": "python3"
  },
  "language_info": {
   "codemirror_mode": {
    "name": "ipython",
    "version": 3
   },
   "file_extension": ".py",
   "mimetype": "text/x-python",
   "name": "python",
   "nbconvert_exporter": "python",
   "pygments_lexer": "ipython3",
   "version": "3.6.1"
  }
 },
 "nbformat": 4,
 "nbformat_minor": 2
}
