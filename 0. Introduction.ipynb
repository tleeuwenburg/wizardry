{
 "cells": [
  {
   "cell_type": "markdown",
   "metadata": {},
   "source": [
    "# This talk is not very serious\n",
    "# There's a tiny bit of sensible stuff near the end\n",
    "\n",
    "\n",
    "# Who Am I\n",
    "\n",
    "* I manage a team of developers who develop things\n",
    "* I hack on crazy ideas using Python, mostly in my spare time\n",
    "* I can't tell the difference between good ideas and bad ideas any more...\n",
    "\n"
   ]
  },
  {
   "cell_type": "markdown",
   "metadata": {},
   "source": [
    "# Crowd Participation\n",
    "\n",
    "* Please tweet @tleeuwenburg and @pyconau with +1 if you think one of these demos is genius\n",
    "* Please tweet @tleeuwenburg and @pyconau with -1 if you think one of these demos is evil\n",
    "* Use +2/-2 if you **really** want to recommend for or against one\n",
    "* We'll use a different hashtage for each topic\n",
    "* This is the #intro\n",
    "\n",
    "## Oh, and please please keep it classy...\n",
    "\n",
    "Please keep the tweets polite and within the code of conduct. You're welcome to disagree with me and say so, but be respectful of other participants and keep any discussion classy and on-point"
   ]
  },
  {
   "cell_type": "markdown",
   "metadata": {},
   "source": [
    "\n",
    "\n",
    "Okay, so what is Syntax Hijacking? Did you know that Python lets you change a lot of the default behaviour -- indeed it *recommends* it in some cases? Well, this talk is all about developing a better sense of when that's a good idea, and when it's not. \n",
    "\n",
    "The Zen of Python tells us \n",
    "\n",
    "```\n",
    "There should be one-- and preferably only one --obvious way to do it.\n",
    "Although that way may not be obvious at first unless you're Dutch.\n",
    "```\n",
    "\n",
    "I'm half Dutch, so I figure that makes me half-way dangerous with these ideas."
   ]
  },
  {
   "cell_type": "markdown",
   "metadata": {},
   "source": [
    "### The bits of Python that you own ###\n",
    "\n",
    "* What happens after a dot, e.g. object.*method()*\n",
    "* What happens in square brackets, e.g. lookup[*key*]\n",
    "\n",
    "### The bits of Python than you can STEAL ###\n",
    "\n",
    "* What happens when you call *almost any function including the built-in ones*\n",
    "* What happens when something invalid happens"
   ]
  },
  {
   "cell_type": "code",
   "execution_count": null,
   "metadata": {
    "collapsed": true
   },
   "outputs": [],
   "source": []
  }
 ],
 "metadata": {
  "kernelspec": {
   "display_name": "Python 3",
   "language": "python",
   "name": "python3"
  },
  "language_info": {
   "codemirror_mode": {
    "name": "ipython",
    "version": 3
   },
   "file_extension": ".py",
   "mimetype": "text/x-python",
   "name": "python",
   "nbconvert_exporter": "python",
   "pygments_lexer": "ipython3",
   "version": "3.6.1"
  }
 },
 "nbformat": 4,
 "nbformat_minor": 2
}
