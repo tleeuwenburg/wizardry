{
 "cells": [
  {
   "cell_type": "code",
   "execution_count": null,
   "metadata": {
    "collapsed": true
   },
   "outputs": [],
   "source": [
    "import wizardry.fuzzy\n",
    "import wizardry.books.zenpy\n",
    "import wizardry.books.jwock\n",
    "import wizardry.books.raven"
   ]
  },
  {
   "cell_type": "code",
   "execution_count": null,
   "metadata": {
    "collapsed": true
   },
   "outputs": [],
   "source": [
    "books = [\n",
    "    (\"The Zen of Python\", \"Tim Peters\", wizardry.books.zenpy.read()),\n",
    "    (\"Jabberwocky\", \"Lewis Carroll\", wizardry.books.jwock.read()),\n",
    "    (\"The Raven\", \"Edgar Allen Poe\", wizardry.books.raven.read())\n",
    "]"
   ]
  },
  {
   "cell_type": "code",
   "execution_count": null,
   "metadata": {
    "collapsed": true
   },
   "outputs": [],
   "source": [
    "agent = wizardry.fuzzy.learn(books)\n",
    "# agent.set_mode('show_scores')"
   ]
  },
  {
   "cell_type": "code",
   "execution_count": null,
   "metadata": {},
   "outputs": [],
   "source": [
    "title, author, lines = agent['zen peters python']\n",
    "print(\"Chose: %s by %s\" % (title, author))"
   ]
  },
  {
   "cell_type": "code",
   "execution_count": null,
   "metadata": {},
   "outputs": [],
   "source": [
    "title, author, lines = agent['jabwoccky']\n",
    "print(\"Chose: %s by %s\" % (title, author))"
   ]
  },
  {
   "cell_type": "code",
   "execution_count": null,
   "metadata": {},
   "outputs": [],
   "source": [
    "title, author, lines = agent['zen jabberwocky']\n",
    "print(\"Chose: %s by %s\" % (title, author))"
   ]
  },
  {
   "cell_type": "code",
   "execution_count": null,
   "metadata": {},
   "outputs": [],
   "source": [
    "title, author, lines = agent['ravn po']\n",
    "print(\"Chose: %s by %s\" % (title, author))"
   ]
  },
  {
   "cell_type": "code",
   "execution_count": null,
   "metadata": {},
   "outputs": [],
   "source": [
    "title, author, lines = agent['ravn po bible']\n",
    "print(\"Chose: %s by %s\" % (title, author))"
   ]
  },
  {
   "cell_type": "code",
   "execution_count": null,
   "metadata": {
    "collapsed": true
   },
   "outputs": [],
   "source": []
  }
 ],
 "metadata": {
  "kernelspec": {
   "display_name": "Python 3",
   "language": "python",
   "name": "python3"
  },
  "language_info": {
   "codemirror_mode": {
    "name": "ipython",
    "version": 3
   },
   "file_extension": ".py",
   "mimetype": "text/x-python",
   "name": "python",
   "nbconvert_exporter": "python",
   "pygments_lexer": "ipython3",
   "version": "3.6.1"
  }
 },
 "nbformat": 4,
 "nbformat_minor": 2
}
