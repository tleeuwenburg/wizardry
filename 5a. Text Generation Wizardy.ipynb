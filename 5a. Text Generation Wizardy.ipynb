{
 "cells": [
  {
   "cell_type": "code",
   "execution_count": 1,
   "metadata": {},
   "outputs": [
    {
     "data": {
      "text/html": [
       "<script>requirejs.config({paths: { 'plotly': ['https://cdn.plot.ly/plotly-latest.min']},});if(!window.Plotly) {{require(['plotly'],function(plotly) {window.Plotly=plotly;});}}</script>"
      ],
      "text/vnd.plotly.v1+html": [
       "<script>requirejs.config({paths: { 'plotly': ['https://cdn.plot.ly/plotly-latest.min']},});if(!window.Plotly) {{require(['plotly'],function(plotly) {window.Plotly=plotly;});}}</script>"
      ]
     },
     "metadata": {},
     "output_type": "display_data"
    }
   ],
   "source": [
    "from plotly.offline import download_plotlyjs, init_notebook_mode, plot, iplot\n",
    "from plotly.graph_objs import Scatter, Figure, Layout\n",
    "init_notebook_mode(connected=True)"
   ]
  },
  {
   "cell_type": "code",
   "execution_count": 2,
   "metadata": {
    "collapsed": true
   },
   "outputs": [],
   "source": [
    "time_series = [\n",
    "    (0, 1, 12, 11),\n",
    "    (1, 2, 11, 11),\n",
    "    (2, 3, 11, 10),\n",
    "    (3, 4, 10, 10),\n",
    "    (4, 5, 10, 9),\n",
    "    (5, 6, 9, 9),\n",
    "    (6, 7, 8, 9),\n",
    "    (7, 8, 9, 10),\n",
    "    (8, 9, 10, 10),\n",
    "    (9, 10, 11, 11),\n",
    "    (10, 11, 12, 13),\n",
    "    (11, 12, 13, 14),\n",
    "    (12, 13, 13, 15),\n",
    "    (13, 14, 14, 15),\n",
    "    (14, 15, 15, 15),\n",
    "    (15, 16, 12, 14),\n",
    "    (16, 17, 12, 12),\n",
    "    (17, 18, 11, 11),\n",
    "    (18, 19, 11, 11),\n",
    "    (19, 20, 10, 11),\n",
    "    (20, 21, 9, 10),   \n",
    "    (21, 22, 9, 9),  \n",
    "    (22, 23, 9, 9),    \n",
    "    (23, 24, 9, 9),   \n",
    "]"
   ]
  },
  {
   "cell_type": "code",
   "execution_count": 3,
   "metadata": {
    "collapsed": true
   },
   "outputs": [],
   "source": [
    "starts, ends, mins, maxs = zip(*time_series)"
   ]
  },
  {
   "cell_type": "code",
   "execution_count": 4,
   "metadata": {},
   "outputs": [
    {
     "data": {
      "application/vnd.plotly.v1+json": {
       "data": [
        {
         "type": "scatter",
         "x": [
          0,
          1,
          2,
          3,
          4,
          5,
          6,
          7,
          8,
          9,
          10,
          11,
          12,
          13,
          14,
          15,
          16,
          17,
          18,
          19,
          20,
          21,
          22,
          23
         ],
         "y": [
          11,
          11,
          10,
          10,
          9,
          9,
          9,
          10,
          10,
          11,
          13,
          14,
          15,
          15,
          15,
          14,
          12,
          11,
          11,
          11,
          10,
          9,
          9,
          9
         ]
        }
       ],
       "layout": {
        "xaxis": {
         "range": [
          0,
          24
         ]
        },
        "yaxis": {
         "range": [
          5,
          18
         ]
        }
       }
      },
      "text/html": [
       "<div id=\"6a80a48d-ae26-45e2-81fa-95182cdc9742\" style=\"height: 525px; width: 100%;\" class=\"plotly-graph-div\"></div><script type=\"text/javascript\">require([\"plotly\"], function(Plotly) { window.PLOTLYENV=window.PLOTLYENV || {};window.PLOTLYENV.BASE_URL=\"https://plot.ly\";Plotly.newPlot(\"6a80a48d-ae26-45e2-81fa-95182cdc9742\", [{\"type\": \"scatter\", \"x\": [0, 1, 2, 3, 4, 5, 6, 7, 8, 9, 10, 11, 12, 13, 14, 15, 16, 17, 18, 19, 20, 21, 22, 23], \"y\": [11, 11, 10, 10, 9, 9, 9, 10, 10, 11, 13, 14, 15, 15, 15, 14, 12, 11, 11, 11, 10, 9, 9, 9]}], {\"xaxis\": {\"range\": [0, 24]}, \"yaxis\": {\"range\": [5, 18]}}, {\"showLink\": true, \"linkText\": \"Export to plot.ly\"})});</script>"
      ],
      "text/vnd.plotly.v1+html": [
       "<div id=\"6a80a48d-ae26-45e2-81fa-95182cdc9742\" style=\"height: 525px; width: 100%;\" class=\"plotly-graph-div\"></div><script type=\"text/javascript\">require([\"plotly\"], function(Plotly) { window.PLOTLYENV=window.PLOTLYENV || {};window.PLOTLYENV.BASE_URL=\"https://plot.ly\";Plotly.newPlot(\"6a80a48d-ae26-45e2-81fa-95182cdc9742\", [{\"type\": \"scatter\", \"x\": [0, 1, 2, 3, 4, 5, 6, 7, 8, 9, 10, 11, 12, 13, 14, 15, 16, 17, 18, 19, 20, 21, 22, 23], \"y\": [11, 11, 10, 10, 9, 9, 9, 10, 10, 11, 13, 14, 15, 15, 15, 14, 12, 11, 11, 11, 10, 9, 9, 9]}], {\"xaxis\": {\"range\": [0, 24]}, \"yaxis\": {\"range\": [5, 18]}}, {\"showLink\": true, \"linkText\": \"Export to plot.ly\"})});</script>"
      ]
     },
     "metadata": {},
     "output_type": "display_data"
    }
   ],
   "source": [
    "trace = Scatter(x=starts, y=maxs)\n",
    "layout = Layout(\n",
    "    xaxis=dict(\n",
    "        range=[0, 24]\n",
    "    ),\n",
    "    yaxis=dict(\n",
    "        range=[5, 18]\n",
    "    )\n",
    ")\n",
    "fig = Figure(data=[trace], layout=layout)\n",
    "iplot(fig)"
   ]
  },
  {
   "cell_type": "code",
   "execution_count": 5,
   "metadata": {},
   "outputs": [],
   "source": [
    "from wizardry import chunker\n",
    "\n",
    "chunks = [chunker.chunk(values) for values in time_series]\n",
    "superchunk = chunker.chunk(chunks)"
   ]
  },
  {
   "cell_type": "code",
   "execution_count": 7,
   "metadata": {},
   "outputs": [
    {
     "data": {
      "application/vnd.plotly.v1+json": {
       "data": [
        {
         "type": "scatter",
         "x": [
          0,
          6,
          12,
          18
         ],
         "y": [
          11,
          14,
          15,
          11
         ]
        }
       ],
       "layout": {
        "xaxis": {
         "range": [
          0,
          24
         ]
        },
        "yaxis": {
         "range": [
          5,
          18
         ]
        }
       }
      },
      "text/html": [
       "<div id=\"af30a494-5dba-4aa9-804e-d65fa66dbacb\" style=\"height: 525px; width: 100%;\" class=\"plotly-graph-div\"></div><script type=\"text/javascript\">require([\"plotly\"], function(Plotly) { window.PLOTLYENV=window.PLOTLYENV || {};window.PLOTLYENV.BASE_URL=\"https://plot.ly\";Plotly.newPlot(\"af30a494-5dba-4aa9-804e-d65fa66dbacb\", [{\"type\": \"scatter\", \"x\": [0, 6, 12, 18], \"y\": [11, 14, 15, 11]}], {\"xaxis\": {\"range\": [0, 24]}, \"yaxis\": {\"range\": [5, 18]}}, {\"showLink\": true, \"linkText\": \"Export to plot.ly\"})});</script>"
      ],
      "text/vnd.plotly.v1+html": [
       "<div id=\"af30a494-5dba-4aa9-804e-d65fa66dbacb\" style=\"height: 525px; width: 100%;\" class=\"plotly-graph-div\"></div><script type=\"text/javascript\">require([\"plotly\"], function(Plotly) { window.PLOTLYENV=window.PLOTLYENV || {};window.PLOTLYENV.BASE_URL=\"https://plot.ly\";Plotly.newPlot(\"af30a494-5dba-4aa9-804e-d65fa66dbacb\", [{\"type\": \"scatter\", \"x\": [0, 6, 12, 18], \"y\": [11, 14, 15, 11]}], {\"xaxis\": {\"range\": [0, 24]}, \"yaxis\": {\"range\": [5, 18]}}, {\"showLink\": true, \"linkText\": \"Export to plot.ly\"})});</script>"
      ]
     },
     "metadata": {},
     "output_type": "display_data"
    }
   ],
   "source": [
    "superchunk.dumbchunk()\n",
    "fig = superchunk.fig()\n",
    "iplot(fig)"
   ]
  },
  {
   "cell_type": "code",
   "execution_count": 8,
   "metadata": {},
   "outputs": [
    {
     "name": "stdout",
     "output_type": "stream",
     "text": [
      "<wizardry.chunker.ChunkyChunk object at 0x1112b72b0>\n"
     ]
    }
   ],
   "source": [
    "print(superchunk)"
   ]
  },
  {
   "cell_type": "code",
   "execution_count": null,
   "metadata": {
    "collapsed": true
   },
   "outputs": [],
   "source": []
  }
 ],
 "metadata": {
  "kernelspec": {
   "display_name": "Python 3",
   "language": "python",
   "name": "python3"
  },
  "language_info": {
   "codemirror_mode": {
    "name": "ipython",
    "version": 3
   },
   "file_extension": ".py",
   "mimetype": "text/x-python",
   "name": "python",
   "nbconvert_exporter": "python",
   "pygments_lexer": "ipython3",
   "version": "3.6.1"
  }
 },
 "nbformat": 4,
 "nbformat_minor": 2
}
