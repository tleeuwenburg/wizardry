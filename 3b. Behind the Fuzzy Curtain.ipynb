{
 "cells": [
  {
   "cell_type": "code",
   "execution_count": null,
   "metadata": {},
   "outputs": [],
   "source": [
    "from plotly.offline import download_plotlyjs, init_notebook_mode, plot, iplot\n",
    "from plotly.graph_objs import Scatter, Figure, Layout\n",
    "init_notebook_mode(connected=True)\n",
    "\n",
    "import wizardry.fuzzy\n",
    "import wizardry.books.zenpy\n",
    "\n",
    "import math"
   ]
  },
  {
   "cell_type": "code",
   "execution_count": null,
   "metadata": {
    "collapsed": true
   },
   "outputs": [],
   "source": [
    "books = [\n",
    "    (\"The Zen of Python\", \"Tim Peters\", wizardry.books.zenpy.read())\n",
    "]"
   ]
  },
  {
   "cell_type": "code",
   "execution_count": null,
   "metadata": {
    "collapsed": true
   },
   "outputs": [],
   "source": [
    "agent = wizardry.fuzzy.learn(books)"
   ]
  },
  {
   "cell_type": "code",
   "execution_count": null,
   "metadata": {},
   "outputs": [],
   "source": [
    "agent['Tim Peters']"
   ]
  },
  {
   "cell_type": "code",
   "execution_count": null,
   "metadata": {
    "collapsed": true
   },
   "outputs": [],
   "source": [
    "import Levenshtein as lv"
   ]
  },
  {
   "cell_type": "code",
   "execution_count": null,
   "metadata": {},
   "outputs": [],
   "source": [
    "xs = list(range(-10, 10))\n",
    "ys = [math.tanh(x) for x in xs]\n",
    "# ys = [math.tanh(x/2) for x in xs]\n",
    "# ys = [math.tanh(x/3) for x in xs]\n",
    "\n",
    "iplot([{\"x\": xs, \"y\": ys}])"
   ]
  },
  {
   "cell_type": "code",
   "execution_count": null,
   "metadata": {},
   "outputs": [],
   "source": [
    "search_pairs = [\n",
    "    (\"Hello\", \"Hello\"),\n",
    "    (\"Hello\", \"hello\"),\n",
    "    (\"Hobbit\", \"Hobitt\"),\n",
    "    (\"Exciting\", \"Exitngg\"),\n",
    "    (\"Hello\", \"Goodbye\"),\n",
    "    (\"Goodbye\", \"Dragonlike\"),\n",
    "    (\"Hello\", \"\")\n",
    "]\n",
    "\n",
    "distances = [lv.distance(a, b) for (a, b) in search_pairs]\n",
    "scores = [math.tanh(d/3) for d in distances]\n",
    "\n",
    "xs = list(range(len(search_pairs)))\n",
    "ys = scores\n",
    "\n",
    "iplot([{\"x\": xs, \"y\": ys}])"
   ]
  },
  {
   "cell_type": "code",
   "execution_count": null,
   "metadata": {
    "collapsed": true
   },
   "outputs": [],
   "source": []
  }
 ],
 "metadata": {
  "kernelspec": {
   "display_name": "Python 3",
   "language": "python",
   "name": "python3"
  },
  "language_info": {
   "codemirror_mode": {
    "name": "ipython",
    "version": 3
   },
   "file_extension": ".py",
   "mimetype": "text/x-python",
   "name": "python",
   "nbconvert_exporter": "python",
   "pygments_lexer": "ipython3",
   "version": "3.6.1"
  }
 },
 "nbformat": 4,
 "nbformat_minor": 2
}
