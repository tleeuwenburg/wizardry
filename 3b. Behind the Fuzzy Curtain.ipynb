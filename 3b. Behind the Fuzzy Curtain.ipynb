{
 "cells": [
  {
   "cell_type": "code",
   "execution_count": 7,
   "metadata": {},
   "outputs": [
    {
     "data": {
      "text/html": [
       "<script>requirejs.config({paths: { 'plotly': ['https://cdn.plot.ly/plotly-latest.min']},});if(!window.Plotly) {{require(['plotly'],function(plotly) {window.Plotly=plotly;});}}</script>"
      ],
      "text/vnd.plotly.v1+html": [
       "<script>requirejs.config({paths: { 'plotly': ['https://cdn.plot.ly/plotly-latest.min']},});if(!window.Plotly) {{require(['plotly'],function(plotly) {window.Plotly=plotly;});}}</script>"
      ]
     },
     "metadata": {},
     "output_type": "display_data"
    }
   ],
   "source": [
    "from plotly.offline import download_plotlyjs, init_notebook_mode, plot, iplot\n",
    "from plotly.graph_objs import Scatter, Figure, Layout\n",
    "init_notebook_mode(connected=True)\n",
    "\n",
    "import wizardry.fuzzy\n",
    "import wizardry.books.zenpy\n",
    "\n",
    "import math"
   ]
  },
  {
   "cell_type": "code",
   "execution_count": 8,
   "metadata": {
    "collapsed": true
   },
   "outputs": [],
   "source": [
    "books = [\n",
    "    \"The Zen of Python\", \"Tim Peters\", wizardry.books.zenpy.read()\n",
    "]"
   ]
  },
  {
   "cell_type": "code",
   "execution_count": 9,
   "metadata": {
    "collapsed": true
   },
   "outputs": [],
   "source": [
    "# agent = wizardry.fuzzy.learn(books)"
   ]
  },
  {
   "cell_type": "code",
   "execution_count": 10,
   "metadata": {
    "collapsed": true
   },
   "outputs": [],
   "source": [
    "# agent['Tim Peters']"
   ]
  },
  {
   "cell_type": "code",
   "execution_count": 11,
   "metadata": {
    "collapsed": true
   },
   "outputs": [],
   "source": [
    "import Levenshtein as lv"
   ]
  },
  {
   "cell_type": "code",
   "execution_count": 35,
   "metadata": {},
   "outputs": [
    {
     "data": {
      "application/vnd.plotly.v1+json": {
       "data": [
        {
         "x": [
          -10,
          -9,
          -8,
          -7,
          -6,
          -5,
          -4,
          -3,
          -2,
          -1,
          0,
          1,
          2,
          3,
          4,
          5,
          6,
          7,
          8,
          9
         ],
         "y": [
          -0.9999999958776927,
          -0.999999969540041,
          -0.9999997749296758,
          -0.9999983369439447,
          -0.9999877116507956,
          -0.9999092042625951,
          -0.999329299739067,
          -0.9950547536867305,
          -0.9640275800758169,
          -0.7615941559557649,
          0,
          0.7615941559557649,
          0.9640275800758169,
          0.9950547536867305,
          0.999329299739067,
          0.9999092042625951,
          0.9999877116507956,
          0.9999983369439447,
          0.9999997749296758,
          0.999999969540041
         ]
        }
       ],
       "layout": {}
      },
      "text/html": [
       "<div id=\"6d59d409-6aba-42c0-a5fc-595fc54bc4fe\" style=\"height: 525px; width: 100%;\" class=\"plotly-graph-div\"></div><script type=\"text/javascript\">require([\"plotly\"], function(Plotly) { window.PLOTLYENV=window.PLOTLYENV || {};window.PLOTLYENV.BASE_URL=\"https://plot.ly\";Plotly.newPlot(\"6d59d409-6aba-42c0-a5fc-595fc54bc4fe\", [{\"x\": [-10, -9, -8, -7, -6, -5, -4, -3, -2, -1, 0, 1, 2, 3, 4, 5, 6, 7, 8, 9], \"y\": [-0.9999999958776927, -0.999999969540041, -0.9999997749296758, -0.9999983369439447, -0.9999877116507956, -0.9999092042625951, -0.999329299739067, -0.9950547536867305, -0.9640275800758169, -0.7615941559557649, 0.0, 0.7615941559557649, 0.9640275800758169, 0.9950547536867305, 0.999329299739067, 0.9999092042625951, 0.9999877116507956, 0.9999983369439447, 0.9999997749296758, 0.999999969540041]}], {}, {\"showLink\": true, \"linkText\": \"Export to plot.ly\"})});</script>"
      ],
      "text/vnd.plotly.v1+html": [
       "<div id=\"6d59d409-6aba-42c0-a5fc-595fc54bc4fe\" style=\"height: 525px; width: 100%;\" class=\"plotly-graph-div\"></div><script type=\"text/javascript\">require([\"plotly\"], function(Plotly) { window.PLOTLYENV=window.PLOTLYENV || {};window.PLOTLYENV.BASE_URL=\"https://plot.ly\";Plotly.newPlot(\"6d59d409-6aba-42c0-a5fc-595fc54bc4fe\", [{\"x\": [-10, -9, -8, -7, -6, -5, -4, -3, -2, -1, 0, 1, 2, 3, 4, 5, 6, 7, 8, 9], \"y\": [-0.9999999958776927, -0.999999969540041, -0.9999997749296758, -0.9999983369439447, -0.9999877116507956, -0.9999092042625951, -0.999329299739067, -0.9950547536867305, -0.9640275800758169, -0.7615941559557649, 0.0, 0.7615941559557649, 0.9640275800758169, 0.9950547536867305, 0.999329299739067, 0.9999092042625951, 0.9999877116507956, 0.9999983369439447, 0.9999997749296758, 0.999999969540041]}], {}, {\"showLink\": true, \"linkText\": \"Export to plot.ly\"})});</script>"
      ]
     },
     "metadata": {},
     "output_type": "display_data"
    }
   ],
   "source": [
    "xs = list(range(-10, 10))\n",
    "ys = [math.tanh(x) for x in xs]\n",
    "# ys = [math.tanh(x/2) for x in xs]\n",
    "# ys = [math.tanh(x/3) for x in xs]\n",
    "\n",
    "iplot([{\"x\": xs, \"y\": ys}])"
   ]
  },
  {
   "cell_type": "code",
   "execution_count": 29,
   "metadata": {},
   "outputs": [
    {
     "data": {
      "application/vnd.plotly.v1+json": {
       "data": [
        {
         "x": [
          0,
          1,
          2,
          3,
          4,
          5,
          6
         ],
         "y": [
          0,
          0.32151273753163434,
          0.5827829453479101,
          0.7615941559557649,
          0.9813680813098666,
          0.9903904942256809,
          0.9311096086675776
         ]
        }
       ],
       "layout": {}
      },
      "text/html": [
       "<div id=\"a02cc867-61b0-4f91-bbc7-630d0dfecd67\" style=\"height: 525px; width: 100%;\" class=\"plotly-graph-div\"></div><script type=\"text/javascript\">require([\"plotly\"], function(Plotly) { window.PLOTLYENV=window.PLOTLYENV || {};window.PLOTLYENV.BASE_URL=\"https://plot.ly\";Plotly.newPlot(\"a02cc867-61b0-4f91-bbc7-630d0dfecd67\", [{\"x\": [0, 1, 2, 3, 4, 5, 6], \"y\": [0.0, 0.32151273753163434, 0.5827829453479101, 0.7615941559557649, 0.9813680813098666, 0.9903904942256809, 0.9311096086675776]}], {}, {\"showLink\": true, \"linkText\": \"Export to plot.ly\"})});</script>"
      ],
      "text/vnd.plotly.v1+html": [
       "<div id=\"a02cc867-61b0-4f91-bbc7-630d0dfecd67\" style=\"height: 525px; width: 100%;\" class=\"plotly-graph-div\"></div><script type=\"text/javascript\">require([\"plotly\"], function(Plotly) { window.PLOTLYENV=window.PLOTLYENV || {};window.PLOTLYENV.BASE_URL=\"https://plot.ly\";Plotly.newPlot(\"a02cc867-61b0-4f91-bbc7-630d0dfecd67\", [{\"x\": [0, 1, 2, 3, 4, 5, 6], \"y\": [0.0, 0.32151273753163434, 0.5827829453479101, 0.7615941559557649, 0.9813680813098666, 0.9903904942256809, 0.9311096086675776]}], {}, {\"showLink\": true, \"linkText\": \"Export to plot.ly\"})});</script>"
      ]
     },
     "metadata": {},
     "output_type": "display_data"
    }
   ],
   "source": [
    "search_pairs = [\n",
    "    (\"Hello\", \"Hello\"),\n",
    "    (\"Hello\", \"hello\"),\n",
    "    (\"Hobbit\", \"Hobitt\"),\n",
    "    (\"Exciting\", \"Exitngg\"),\n",
    "    (\"Hello\", \"Goodbye\"),\n",
    "    (\"Goodbye\", \"Dragonlike\"),\n",
    "    (\"Hello\", \"\")\n",
    "]\n",
    "\n",
    "distances = [lv.distance(a, b) for (a, b) in search_pairs]\n",
    "scores = [math.tanh(d/3) for d in distances]\n",
    "\n",
    "xs = list(range(len(search_pairs)))\n",
    "ys = scores\n",
    "\n",
    "iplot([{\"x\": xs, \"y\": ys}])"
   ]
  },
  {
   "cell_type": "code",
   "execution_count": null,
   "metadata": {
    "collapsed": true
   },
   "outputs": [],
   "source": []
  }
 ],
 "metadata": {
  "kernelspec": {
   "display_name": "Python 3",
   "language": "python",
   "name": "python3"
  },
  "language_info": {
   "codemirror_mode": {
    "name": "ipython",
    "version": 3
   },
   "file_extension": ".py",
   "mimetype": "text/x-python",
   "name": "python",
   "nbconvert_exporter": "python",
   "pygments_lexer": "ipython3",
   "version": "3.6.1"
  }
 },
 "nbformat": 4,
 "nbformat_minor": 2
}
