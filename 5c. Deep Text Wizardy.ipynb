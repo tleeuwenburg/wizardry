{
 "cells": [
  {
   "cell_type": "code",
   "execution_count": null,
   "metadata": {},
   "outputs": [],
   "source": [
    "from plotly.offline import download_plotlyjs, init_notebook_mode, plot, iplot\n",
    "from plotly.graph_objs import Bar, Scatter, Figure, Layout\n",
    "init_notebook_mode(connected=True)\n",
    "\n",
    "from wizardry import chunk"
   ]
  },
  {
   "cell_type": "code",
   "execution_count": null,
   "metadata": {
    "collapsed": true
   },
   "outputs": [],
   "source": [
    "time_series = [\n",
    "    (0, 1, 10, 11),\n",
    "    (1, 2, 11, 11),\n",
    "    (2, 3, 11, 10),\n",
    "    (3, 4, 10, 10),\n",
    "    (4, 5, 10, 9),\n",
    "    (5, 6, 9, 9),\n",
    "    (6, 7, 8, 9),\n",
    "    (7, 8, 9, 10),\n",
    "    (8, 9, 10, 10),\n",
    "    (9, 10, 11, 11),\n",
    "    (10, 11, 12, 13),\n",
    "    (11, 12, 13, 14),\n",
    "    (12, 13, 13, 15),\n",
    "    (13, 14, 14, 15),\n",
    "    (14, 15, 15, 15),\n",
    "    (15, 16, 12, 14),\n",
    "    (16, 17, 12, 12),\n",
    "    (17, 18, 11, 11),\n",
    "    (18, 19, 11, 11),\n",
    "    (19, 20, 10, 11),\n",
    "    (20, 21, 9, 10),   \n",
    "    (21, 22, 9, 9),  \n",
    "    (22, 23, 9, 9),    \n",
    "    (23, 24, 9, 9),   \n",
    "]"
   ]
  },
  {
   "cell_type": "code",
   "execution_count": null,
   "metadata": {},
   "outputs": [],
   "source": [
    "c = chunk.chunk(time_series)\n",
    "c.error()"
   ]
  },
  {
   "cell_type": "code",
   "execution_count": null,
   "metadata": {},
   "outputs": [],
   "source": [
    "c.mode = \"aggregate\"\n",
    "c.error()"
   ]
  },
  {
   "cell_type": "code",
   "execution_count": null,
   "metadata": {
    "collapsed": true
   },
   "outputs": [],
   "source": [
    "c = chunk.chunk(time_series)\n",
    "c.dumbchunk()"
   ]
  },
  {
   "cell_type": "code",
   "execution_count": null,
   "metadata": {},
   "outputs": [],
   "source": [
    "c.error()"
   ]
  },
  {
   "cell_type": "code",
   "execution_count": null,
   "metadata": {},
   "outputs": [],
   "source": [
    "c = chunk.chunk(time_series)\n",
    "c.smartchunk()\n",
    "c.error()"
   ]
  },
  {
   "cell_type": "code",
   "execution_count": null,
   "metadata": {
    "collapsed": true
   },
   "outputs": [],
   "source": []
  },
  {
   "cell_type": "code",
   "execution_count": null,
   "metadata": {
    "collapsed": true
   },
   "outputs": [],
   "source": [
    "fig = c.fig()"
   ]
  },
  {
   "cell_type": "code",
   "execution_count": null,
   "metadata": {},
   "outputs": [],
   "source": [
    "iplot(fig)"
   ]
  },
  {
   "cell_type": "code",
   "execution_count": null,
   "metadata": {},
   "outputs": [],
   "source": [
    "c"
   ]
  },
  {
   "cell_type": "code",
   "execution_count": null,
   "metadata": {
    "collapsed": true
   },
   "outputs": [],
   "source": []
  }
 ],
 "metadata": {
  "kernelspec": {
   "display_name": "Python 3",
   "language": "python",
   "name": "python3"
  },
  "language_info": {
   "codemirror_mode": {
    "name": "ipython",
    "version": 3
   },
   "file_extension": ".py",
   "mimetype": "text/x-python",
   "name": "python",
   "nbconvert_exporter": "python",
   "pygments_lexer": "ipython3",
   "version": "3.6.1"
  }
 },
 "nbformat": 4,
 "nbformat_minor": 2
}
